{
 "cells": [
  {
   "cell_type": "code",
   "execution_count": 37,
   "metadata": {},
   "outputs": [],
   "source": [
    "from pydub import AudioSegment\n",
    "from os import listdir, mkdir, path\n",
    "from sklearn.model_selection import train_test_split\n",
    "import pandas as pd\n",
    "from tqdm import tqdm"
   ]
  },
  {
   "cell_type": "code",
   "execution_count": 38,
   "metadata": {},
   "outputs": [],
   "source": [
    "audio_dir = 'audio_files'\n",
    "df = pd.read_csv(\"birds_clean_pt.csv\")"
   ]
  },
  {
   "cell_type": "code",
   "execution_count": 39,
   "metadata": {},
   "outputs": [
    {
     "name": "stdout",
     "output_type": "stream",
     "text": [
      "Not downloaded: 1\n"
     ]
    }
   ],
   "source": [
    "files = listdir(audio_dir)\n",
    "df['file-name'] = df['file-name'].str.lower()\n",
    "df['filename'] = df['id'].astype(str) + df['file-name'].str[-4:]\n",
    "downloaded = df[df['filename'].isin(files)][['filename', 'en']]\n",
    "downloaded.to_csv('downloaded.csv', index=False)\n",
    "print('Not downloaded:', len(df) - len(downloaded))\n",
    "\n",
    "train, test = train_test_split(downloaded[['filename', 'en']], stratify=downloaded[\"en\"], test_size=0.1)"
   ]
  },
  {
   "cell_type": "code",
   "execution_count": 40,
   "metadata": {},
   "outputs": [],
   "source": [
    "def to_wav(filename, n_channels, sample_rate, input_dir, output_dir):\n",
    "    input_type = filename[-4:].lower()\n",
    "    if input_type == '.mp3':\n",
    "        sound = AudioSegment.from_mp3(f\"{input_dir}/{filename}\")\n",
    "        new_fn = filename[:-4] + '.wav'\n",
    "    elif input_type == '.wav':\n",
    "        sound = AudioSegment.from_wav(f\"{input_dir}/{filename}\")\n",
    "        new_fn = filename\n",
    "    sound = sound.set_channels(n_channels)\n",
    "    sound.set_frame_rate(sample_rate)\n",
    "    sound.export(f\"{output_dir}/{new_fn}\", format=\"wav\")"
   ]
  },
  {
   "cell_type": "code",
   "execution_count": 41,
   "metadata": {},
   "outputs": [],
   "source": [
    "wav_dir = 'wav_files'\n",
    "if not path.isdir(wav_dir):\n",
    "    mkdir(wav_dir)\n",
    "    mkdir(wav_dir + '/test/')\n",
    "    mkdir(wav_dir + '/train/')"
   ]
  },
  {
   "cell_type": "code",
   "execution_count": 42,
   "metadata": {},
   "outputs": [
    {
     "name": "stderr",
     "output_type": "stream",
     "text": [
      "100%|██████████| 981/981 [08:18<00:00,  1.97it/s]\n",
      "100%|██████████| 8825/8825 [1:20:31<00:00,  1.83it/s]    \n"
     ]
    }
   ],
   "source": [
    "for fn in tqdm(test['filename']):\n",
    "    to_wav(fn, n_channels=1, sample_rate=16000, input_dir=audio_dir, output_dir=wav_dir+'/test')\n",
    "\n",
    "for fn in tqdm(train['filename']):\n",
    "    to_wav(fn, n_channels=1, sample_rate=16000, input_dir=audio_dir, output_dir=wav_dir+'/train')"
   ]
  }
 ],
 "metadata": {
  "kernelspec": {
   "display_name": "base",
   "language": "python",
   "name": "python3"
  },
  "language_info": {
   "codemirror_mode": {
    "name": "ipython",
    "version": 3
   },
   "file_extension": ".py",
   "mimetype": "text/x-python",
   "name": "python",
   "nbconvert_exporter": "python",
   "pygments_lexer": "ipython3",
   "version": "3.10.9"
  }
 },
 "nbformat": 4,
 "nbformat_minor": 2
}
