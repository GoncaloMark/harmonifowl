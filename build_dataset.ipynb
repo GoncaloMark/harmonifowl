{
 "cells": [
  {
   "cell_type": "code",
   "execution_count": 1,
   "metadata": {},
   "outputs": [],
   "source": [
    "import pandas as pd\n",
    "from urllib.request import urlretrieve\n",
    "from os import mkdir, path as os_path\n",
    "import aiohttp\n",
    "import asyncio"
   ]
  },
  {
   "cell_type": "code",
   "execution_count": 2,
   "metadata": {},
   "outputs": [],
   "source": [
    "MAX_CONCURRENT_REQUESTS = 7\n",
    "audio_dir = 'audio_files/'\n",
    "nots = []"
   ]
  },
  {
   "cell_type": "code",
   "execution_count": 3,
   "metadata": {},
   "outputs": [],
   "source": [
    "async def fetch_and_process_page(session, n_page, country, semaphore):\n",
    "    url = f'https://www.xeno-canto.org/api/2/recordings?query=cnt:{country}&page={n_page}'\n",
    "    try:\n",
    "        async with semaphore:\n",
    "            async with session.get(url) as response:\n",
    "                page_json = await response.json()\n",
    "    except Exception as e:\n",
    "        print(f\"An error occurred while fetching page {n_page}: {str(e)}\")\n",
    "        return None\n",
    "\n",
    "    ids, files, file_names, ens, sps, lengths, gens = [], [], [], [], [], [], []\n",
    "    for recording in page_json[\"recordings\"]:\n",
    "        ids.append(recording[\"id\"])\n",
    "        files.append(recording[\"file\"])\n",
    "        file_names.append(recording[\"file-name\"])\n",
    "        ens.append(recording[\"en\"])\n",
    "        lengths.append(recording[\"length\"])\n",
    "        gens.append(recording[\"gen\"])\n",
    "        sps.append(recording[\"sp\"])\n",
    "\n",
    "    return pd.DataFrame.from_records({'id': ids, \"file\": files, \"file-name\": file_names, \"en\": ens, \"gen\": gens, \"sp\": sps, \"length\": lengths})\n"
   ]
  },
  {
   "cell_type": "code",
   "execution_count": 4,
   "metadata": {},
   "outputs": [],
   "source": [
    "async def get_csv():\n",
    "    country = 'portugal'\n",
    "    url = f'https://www.xeno-canto.org/api/2/recordings?query=cnt:{country}'\n",
    "    async with aiohttp.ClientSession() as session:\n",
    "        async with session.get(url) as response:\n",
    "            if response.status != 200:\n",
    "                print(f\"Failed to fetch initial page. Status code: {response.status}\")\n",
    "                return\n",
    "            js = await response.json()\n",
    "    \n",
    "        semaphore = asyncio.Semaphore(MAX_CONCURRENT_REQUESTS)\n",
    "        tasks = [fetch_and_process_page(session, n_page, country, semaphore) for n_page in range(1, js[\"numPages\"]+1)]\n",
    "        results = await asyncio.gather(*tasks)\n",
    "\n",
    "        df = pd.concat([r for r in results if r is not None], ignore_index=True)\n",
    "        df.to_csv(\"birds_raw_pt.csv\", index=False)\n",
    "\n",
    "await get_csv()"
   ]
  },
  {
   "cell_type": "code",
   "execution_count": 5,
   "metadata": {},
   "outputs": [],
   "source": [
    "async def download_with_retry(url, file_path, max_retries=3):\n",
    "    for _ in range(max_retries):\n",
    "        try:\n",
    "            urlretrieve(url, filename=file_path)\n",
    "            return\n",
    "        except Exception as e:\n",
    "            print(e)\n",
    "            await asyncio.sleep(20)"
   ]
  },
  {
   "cell_type": "code",
   "execution_count": 6,
   "metadata": {},
   "outputs": [],
   "source": [
    "async def download_audio(sem, row):\n",
    "    async with sem:\n",
    "        url = row[\"file\"]\n",
    "        f_name = str(row[\"id\"]) + row[\"file-name\"][-4:].lower()\n",
    "        try:\n",
    "            await download_with_retry(url, audio_dir + f_name)\n",
    "        except Exception as e:\n",
    "            print(\"\\nRetrying:\", url)\n",
    "            print(e)\n",
    "            await asyncio.sleep(20)\n",
    "            try:\n",
    "                await download_with_retry(url, audio_dir + f_name)\n",
    "            except Exception as ee:\n",
    "                print(\"Not downloaded|\", f_name)\n",
    "                print(ee)\n",
    "                nots.append(row[\"id\"])"
   ]
  },
  {
   "cell_type": "code",
   "execution_count": 7,
   "metadata": {},
   "outputs": [
    {
     "name": "stdout",
     "output_type": "stream",
     "text": [
      "(9807, 7)\n",
      "107 different species\n",
      "HTTP Error 500: Internal Server Error\n",
      "HTTP Error 500: Internal Server Error\n",
      "HTTP Error 500: Internal Server Error\n",
      "All files were successfully downloaded!\n"
     ]
    }
   ],
   "source": [
    "async def build_dataset():\n",
    "    audio_dir = 'audio_files/'\n",
    "    if not os_path.isdir(audio_dir):\n",
    "        mkdir(audio_dir)\n",
    "    \n",
    "    bird_df = pd.read_csv(\"birds_raw_pt.csv\")\n",
    "    bird_df = bird_df[bird_df['en'] != 'Identity unknown'].copy()\n",
    "    bird_df = bird_df[bird_df['en'] != 'Soundscape'].copy()\n",
    "    counts = bird_df['en'].value_counts()\n",
    "    chosen = counts[counts >= 30].index\n",
    "    bird_df = bird_df[bird_df[\"en\"].isin(chosen)]\n",
    "    bird_df.to_csv(\"birds_clean_pt.csv\", index=False)\n",
    "\n",
    "    print(bird_df.shape)\n",
    "    print(len(bird_df[\"en\"].unique()), \"different species\")\n",
    "\n",
    "    sem = asyncio.Semaphore(MAX_CONCURRENT_REQUESTS)\n",
    "\n",
    "    tasks = [download_audio(sem, row[1]) for row in bird_df.iterrows()]\n",
    "    await asyncio.gather(*tasks)\n",
    "\n",
    "    if len(nots) > 0:\n",
    "        with open('not_downloaded.txt', 'w') as f:\n",
    "            for item in nots:\n",
    "                f.write(str(item) + '\\n')\n",
    "        print(str(nots))\n",
    "    else:\n",
    "        print('All files were successfully downloaded!')\n",
    "\n",
    "await build_dataset()"
   ]
  }
 ],
 "metadata": {
  "kernelspec": {
   "display_name": "base",
   "language": "python",
   "name": "python3"
  },
  "language_info": {
   "codemirror_mode": {
    "name": "ipython",
    "version": 3
   },
   "file_extension": ".py",
   "mimetype": "text/x-python",
   "name": "python",
   "nbconvert_exporter": "python",
   "pygments_lexer": "ipython3",
   "version": "3.10.9"
  }
 },
 "nbformat": 4,
 "nbformat_minor": 2
}
